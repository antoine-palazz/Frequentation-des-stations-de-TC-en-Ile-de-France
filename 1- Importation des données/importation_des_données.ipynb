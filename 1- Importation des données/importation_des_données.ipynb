{
 "cells": [
  {
   "cell_type": "markdown",
   "id": "ad647b93-bd73-4e30-8aba-9ec5250834df",
   "metadata": {},
   "source": [
    "# Importation des données"
   ]
  },
  {
   "cell_type": "markdown",
   "id": "70102403-630e-4cfe-ab4d-ebc833eb9d9a",
   "metadata": {},
   "source": [
    "Ce fichier a pour but d'expliquer les méthodes d'importation des données. Ces scripts seront utilisé direcement dans les prochaines parties. Il s'agit donc ici de détailler la procédure d'importation."
   ]
  },
  {
   "cell_type": "markdown",
   "id": "5c4ed097-ce5e-4731-8e7e-6390595375b7",
   "metadata": {},
   "source": [
    "## Présentation générale des données\n",
    "a completer"
   ]
  },
  {
   "cell_type": "code",
   "execution_count": 7,
   "id": "7e5f1eed-617f-40be-951f-81ba73623859",
   "metadata": {},
   "outputs": [],
   "source": [
    "import pandas as pd\n",
    "import requests\n",
    "from io import BytesIO, StringIO\n",
    "from zipfile import ZipFile"
   ]
  },
  {
   "cell_type": "markdown",
   "id": "74b38b9d-18c0-459a-b2bc-dc36adc1ae28",
   "metadata": {},
   "source": [
    "## Données de 2023"
   ]
  },
  {
   "cell_type": "code",
   "execution_count": null,
   "id": "5b65cb29-9597-4167-9183-407ce79619a6",
   "metadata": {},
   "outputs": [],
   "source": [
    "print(\"début de l'importation du nombre de validations par jour S1 2023\")\n",
    "url = \"https://data.iledefrance-mobilites.fr/api/explore/v2.1/catalog/datasets/validations-reseau-ferre-nombre-validations-par-jour-1er-semestre/exports/csv?lang=fr&timezone=Europe%2FBerlin&use_labels=true&delimiter=%3B\"\n",
    "data_validation_23 = pd.read_csv(url, sep=\";\")\n",
    "print(\"fin de l'importation du nombre de validations par jour S1 2023\")\n",
    "\n",
    "print(\"début de l'importation profils horaires par jour type S1 2023\")\n",
    "url = \"https://data.iledefrance-mobilites.fr/api/explore/v2.1/catalog/datasets/validations-reseau-ferre-profils-horaires-par-jour-type-1er-semestre/exports/csv?lang=fr&timezone=Europe%2FBerlin&use_labels=true&delimiter=%3B\"\n",
    "data_profils_horaires_23 = pd.read_csv(url, sep=\";\")\n",
    "print(\"fin de l'importation profils horaires par jour type S1 2023\")\n"
   ]
  },
  {
   "cell_type": "markdown",
   "id": "dce03676-ba03-4adf-a05e-02130556a40a",
   "metadata": {},
   "source": [
    "## Données de 2015 à 2022"
   ]
  },
  {
   "cell_type": "markdown",
   "id": "a710cab4-630d-4bbc-8b68-dfae31b4719e",
   "metadata": {},
   "source": [
    "Les données de validation du réseau ferré de 2015 à 2022 sont accessibles depuis le fichier suivant : chaque ligne correspond à une année qui donne accès au téléchargement des données. Il suffit donc de télécharger ces données une à une, et d'extraire les fichiers dont nous avons besoin depuis les dossiers ZIP que nous décompressons dans des dossiers temporaire."
   ]
  },
  {
   "cell_type": "code",
   "execution_count": 5,
   "id": "d16aa6b3-e4f9-43b2-b802-d8c52a70feb8",
   "metadata": {},
   "outputs": [],
   "source": [
    "url = \"https://data.iledefrance-mobilites.fr/api/explore/v2.1/catalog/datasets/histo-validations-reseau-ferre/exports/csv?lang=fr&timezone=Europe%2FBerlin&use_labels=true&delimiter=%3B\"\n",
    "data_archives = pd.read_csv(url, sep=\";\")\n",
    "data_archives.rename(columns=dict(zip(data_archives.columns, [\"date\", \"lien\"])), inplace=True)\n"
   ]
  },
  {
   "cell_type": "code",
   "execution_count": 6,
   "id": "ab40adf8-ba28-410f-b920-2c67f3df520d",
   "metadata": {},
   "outputs": [
    {
     "data": {
      "text/html": [
       "<div>\n",
       "<style scoped>\n",
       "    .dataframe tbody tr th:only-of-type {\n",
       "        vertical-align: middle;\n",
       "    }\n",
       "\n",
       "    .dataframe tbody tr th {\n",
       "        vertical-align: top;\n",
       "    }\n",
       "\n",
       "    .dataframe thead th {\n",
       "        text-align: right;\n",
       "    }\n",
       "</style>\n",
       "<table border=\"1\" class=\"dataframe\">\n",
       "  <thead>\n",
       "    <tr style=\"text-align: right;\">\n",
       "      <th></th>\n",
       "      <th>date</th>\n",
       "      <th>lien</th>\n",
       "    </tr>\n",
       "  </thead>\n",
       "  <tbody>\n",
       "    <tr>\n",
       "      <th>0</th>\n",
       "      <td>2017</td>\n",
       "      <td>https://data.iledefrance-mobilites.fr/api/expl...</td>\n",
       "    </tr>\n",
       "    <tr>\n",
       "      <th>1</th>\n",
       "      <td>2019</td>\n",
       "      <td>https://data.iledefrance-mobilites.fr/api/expl...</td>\n",
       "    </tr>\n",
       "    <tr>\n",
       "      <th>2</th>\n",
       "      <td>2021</td>\n",
       "      <td>https://data.iledefrance-mobilites.fr/api/expl...</td>\n",
       "    </tr>\n",
       "    <tr>\n",
       "      <th>3</th>\n",
       "      <td>2022</td>\n",
       "      <td>https://data.iledefrance-mobilites.fr/api/expl...</td>\n",
       "    </tr>\n",
       "    <tr>\n",
       "      <th>4</th>\n",
       "      <td>2018</td>\n",
       "      <td>https://data.iledefrance-mobilites.fr/api/expl...</td>\n",
       "    </tr>\n",
       "  </tbody>\n",
       "</table>\n",
       "</div>"
      ],
      "text/plain": [
       "   date                                               lien\n",
       "0  2017  https://data.iledefrance-mobilites.fr/api/expl...\n",
       "1  2019  https://data.iledefrance-mobilites.fr/api/expl...\n",
       "2  2021  https://data.iledefrance-mobilites.fr/api/expl...\n",
       "3  2022  https://data.iledefrance-mobilites.fr/api/expl...\n",
       "4  2018  https://data.iledefrance-mobilites.fr/api/expl..."
      ]
     },
     "execution_count": 6,
     "metadata": {},
     "output_type": "execute_result"
    }
   ],
   "source": [
    "data_archives.head()"
   ]
  },
  {
   "cell_type": "markdown",
   "id": "59facaf9-f331-4543-8c7e-1506b5ed550e",
   "metadata": {},
   "source": [
    "On affiche le nom des années et fichiers pour vérifier qu'ils sont bien importés et suivre l'avancée du téléchargement."
   ]
  },
  {
   "cell_type": "code",
   "execution_count": 21,
   "id": "8afbf1da-8b35-44a5-810f-1250e0545205",
   "metadata": {},
   "outputs": [
    {
     "name": "stdout",
     "output_type": "stream",
     "text": [
      "2015\n",
      "2015S1_NB_FER.csv\n",
      "2015S1_PROFIL_FER.csv\n",
      "2015S2_NB_FER.csv\n"
     ]
    },
    {
     "name": "stderr",
     "output_type": "stream",
     "text": [
      "/tmp/ipykernel_788/3004101759.py:17: DtypeWarning: Columns (1,2,4) have mixed types. Specify dtype option on import or set low_memory=False.\n",
      "  globals()[name] = pd.read_csv(file, sep=\";\")\n"
     ]
    },
    {
     "name": "stdout",
     "output_type": "stream",
     "text": [
      "2015S2_PROFIL_FER.csv\n",
      "2016\n",
      "2016S1_NB_FER.txt\n",
      "2016S1_PROFIL_FER.txt\n",
      "2016S2_NB_FER.txt\n"
     ]
    },
    {
     "name": "stderr",
     "output_type": "stream",
     "text": [
      "/tmp/ipykernel_788/3004101759.py:19: DtypeWarning: Columns (1,2,4) have mixed types. Specify dtype option on import or set low_memory=False.\n",
      "  globals()[name] = pd.read_csv(file, sep='\\t', header=0)\n"
     ]
    },
    {
     "name": "stdout",
     "output_type": "stream",
     "text": [
      "2016S2_PROFIL_FER.txt\n",
      "2017\n"
     ]
    },
    {
     "name": "stderr",
     "output_type": "stream",
     "text": [
      "/tmp/ipykernel_788/3004101759.py:19: DtypeWarning: Columns (1,2,4) have mixed types. Specify dtype option on import or set low_memory=False.\n",
      "  globals()[name] = pd.read_csv(file, sep='\\t', header=0)\n"
     ]
    },
    {
     "name": "stdout",
     "output_type": "stream",
     "text": [
      "2017_S2_NB_FER.txt\n",
      "2017_S2_PROFIL_FER.txt\n",
      "2017S1_NB_FER.txt\n"
     ]
    },
    {
     "name": "stderr",
     "output_type": "stream",
     "text": [
      "/tmp/ipykernel_788/3004101759.py:19: DtypeWarning: Columns (1,2) have mixed types. Specify dtype option on import or set low_memory=False.\n",
      "  globals()[name] = pd.read_csv(file, sep='\\t', header=0)\n"
     ]
    },
    {
     "name": "stdout",
     "output_type": "stream",
     "text": [
      "2017S1_PROFIL_FER.txt\n",
      "2018\n",
      "2018_S1_NB_FER.txt\n",
      "2018_S1_PROFIL_FER.txt\n",
      "2018_S2_NB_Fer.txt\n"
     ]
    },
    {
     "name": "stderr",
     "output_type": "stream",
     "text": [
      "/tmp/ipykernel_788/3004101759.py:19: DtypeWarning: Columns (1,2) have mixed types. Specify dtype option on import or set low_memory=False.\n",
      "  globals()[name] = pd.read_csv(file, sep='\\t', header=0)\n"
     ]
    },
    {
     "name": "stdout",
     "output_type": "stream",
     "text": [
      "2018_S2_Profil_Fer.txt\n",
      "2019\n",
      "2019_S1_NB_FER.txt\n",
      "2019_S1_PROFIL_FER.txt\n",
      "2019_S2_NB_FER.txt\n"
     ]
    },
    {
     "name": "stderr",
     "output_type": "stream",
     "text": [
      "/tmp/ipykernel_788/3004101759.py:19: DtypeWarning: Columns (1,2) have mixed types. Specify dtype option on import or set low_memory=False.\n",
      "  globals()[name] = pd.read_csv(file, sep='\\t', header=0)\n"
     ]
    },
    {
     "name": "stdout",
     "output_type": "stream",
     "text": [
      "2019_S2_PROFIL_FER.txt\n",
      "2020\n"
     ]
    },
    {
     "name": "stderr",
     "output_type": "stream",
     "text": [
      "/tmp/ipykernel_788/3004101759.py:19: DtypeWarning: Columns (1,2) have mixed types. Specify dtype option on import or set low_memory=False.\n",
      "  globals()[name] = pd.read_csv(file, sep='\\t', header=0)\n"
     ]
    },
    {
     "name": "stdout",
     "output_type": "stream",
     "text": [
      "2020_S1_NB_FER.txt\n",
      "2020_S1_PROFIL_FER.txt\n",
      "2020_S2_NB_FER.txt\n"
     ]
    },
    {
     "name": "stderr",
     "output_type": "stream",
     "text": [
      "/tmp/ipykernel_788/3004101759.py:19: DtypeWarning: Columns (1,2) have mixed types. Specify dtype option on import or set low_memory=False.\n",
      "  globals()[name] = pd.read_csv(file, sep='\\t', header=0)\n"
     ]
    },
    {
     "name": "stdout",
     "output_type": "stream",
     "text": [
      "2020_S2_PROFIL_FER.txt\n",
      "fichier zip\n",
      "fichier zip\n",
      "fichier zip\n",
      "fichier zip\n",
      "fichier zip\n",
      "2021\n",
      "2021_S1_NB_FER.txt\n",
      "2021_S1_PROFIL_FER.txt\n",
      "2021_S2_NB_FER.txt\n",
      "2021_S2_PROFIL_FER.txt\n",
      "2022\n",
      "2022_S1_NB_FER.txt\n",
      "2022_S1_PROFIL_FER.txt\n",
      "2022_S2_NB_FER.txt\n"
     ]
    },
    {
     "name": "stderr",
     "output_type": "stream",
     "text": [
      "/tmp/ipykernel_788/3004101759.py:19: DtypeWarning: Columns (1,2) have mixed types. Specify dtype option on import or set low_memory=False.\n",
      "  globals()[name] = pd.read_csv(file, sep='\\t', header=0)\n"
     ]
    },
    {
     "name": "stdout",
     "output_type": "stream",
     "text": [
      "2022_S2_PROFIL_FER.txt\n"
     ]
    }
   ],
   "source": [
    "annees = [annee for annee in range(2015, 2023)]\n",
    "for annee in annees:\n",
    "    print(annee)\n",
    "    url_zip = data_archives[data_archives['date'] == annee]['lien'].iloc[0]\n",
    "    response = requests.get(url_zip)\n",
    "    with ZipFile(BytesIO(response.content)) as zipfile:\n",
    "        # On récupère la liste des noms de fichier dans le ZIP\n",
    "        file_names = zipfile.namelist()\n",
    "        for file_name in file_names:\n",
    "            if file_name.endswith('.zip'): print(\"fichier zip\")\n",
    "            else:                \n",
    "                name=file_name.split(\"/\")[1]\n",
    "                print(name)\n",
    "                # Lecture du contenu du fichier\n",
    "                with zipfile.open(file_name) as file:\n",
    "                    if file_name.endswith('.csv'):\n",
    "                        globals()[name] = pd.read_csv(file, sep=\";\")\n",
    "                    else:\n",
    "                        globals()[name] = pd.read_csv(file, sep='\\t', header=0) \n",
    "    \n"
   ]
  },
  {
   "cell_type": "code",
   "execution_count": 22,
   "id": "48767669-ac36-4499-a808-b1474eedbf36",
   "metadata": {},
   "outputs": [
    {
     "ename": "SyntaxError",
     "evalue": "invalid decimal literal (2842534393.py, line 1)",
     "output_type": "error",
     "traceback": [
      "\u001b[0;36m  Cell \u001b[0;32mIn[22], line 1\u001b[0;36m\u001b[0m\n\u001b[0;31m    2022_S2_PROFIL_FER.txt.head()\u001b[0m\n\u001b[0m        ^\u001b[0m\n\u001b[0;31mSyntaxError\u001b[0m\u001b[0;31m:\u001b[0m invalid decimal literal\n"
     ]
    }
   ],
   "source": [
    "2022_S2_PROFIL_FER.txt.head()"
   ]
  },
  {
   "cell_type": "code",
   "execution_count": null,
   "id": "4726e214-9643-4bd4-b41d-680459ef29d3",
   "metadata": {},
   "outputs": [],
   "source": []
  },
  {
   "cell_type": "markdown",
   "id": "205a9315-f786-49bb-98cd-9299be6bfc97",
   "metadata": {},
   "source": [
    "a revoir car pb du nom !"
   ]
  }
 ],
 "metadata": {
  "kernelspec": {
   "display_name": "Python 3 (ipykernel)",
   "language": "python",
   "name": "python3"
  },
  "language_info": {
   "codemirror_mode": {
    "name": "ipython",
    "version": 3
   },
   "file_extension": ".py",
   "mimetype": "text/x-python",
   "name": "python",
   "nbconvert_exporter": "python",
   "pygments_lexer": "ipython3",
   "version": "3.10.13"
  }
 },
 "nbformat": 4,
 "nbformat_minor": 5
}
